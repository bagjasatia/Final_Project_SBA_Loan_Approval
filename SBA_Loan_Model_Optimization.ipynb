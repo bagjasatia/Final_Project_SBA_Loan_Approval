{
 "cells": [
  {
   "cell_type": "markdown",
   "metadata": {},
   "source": [
    "# Small Business Administration Loan Approval"
   ]
  },
  {
   "cell_type": "markdown",
   "metadata": {},
   "source": [
    "## Model Optimization"
   ]
  },
  {
   "cell_type": "markdown",
   "metadata": {},
   "source": [
    "### Bagja Satiaraharja\n",
    "\n",
    "**Dataset:** SBA Loan Dataset | **Source:** [Kaggle](https://www.kaggle.com/mirbektoktogaraev/should-this-loan-be-approved-or-denied)"
   ]
  },
  {
   "cell_type": "markdown",
   "metadata": {},
   "source": [
    "The dataset is from the U.S. Small Business Administration (SBA)\n",
    "\n",
    "The U.S. SBA was founded in 1953 on the principle of promoting and assisting small enterprises in the U.S. credit market (SBA Overview and History, US Small Business Administration (2015)). Small businesses have been a primary source of job creation in the United States; therefore, fostering small business formation and growth has social benefits by creating job opportunities and reducing unemployment.\n",
    "\n",
    "There have been many success stories of start-ups receiving SBA loan guarantees such as FedEx and Apple Computer. However, there have also been stories of small businesses and/or start-ups that have defaulted on their SBA-guaranteed loans.\n",
    "\n",
    "In this final project, I will build a Flask-based web app that can recommend whether the loan is approved or not based on the given term and loan condition. "
   ]
  },
  {
   "cell_type": "markdown",
   "metadata": {},
   "source": [
    "### Import Data & Library"
   ]
  },
  {
   "cell_type": "code",
   "execution_count": 1,
   "metadata": {},
   "outputs": [],
   "source": [
    "import numpy as np\n",
    "import pandas as pd\n",
    "import matplotlib.pyplot as plt\n",
    "import seaborn as sns\n",
    "from sklearn.model_selection import train_test_split, GridSearchCV, RandomizedSearchCV\n",
    "from sklearn.linear_model import LogisticRegression\n",
    "from sklearn.tree import DecisionTreeClassifier\n",
    "from sklearn.ensemble import RandomForestClassifier, AdaBoostClassifier, GradientBoostingClassifier\n",
    "from sklearn.neighbors import KNeighborsClassifier\n",
    "from sklearn.metrics import classification_report, confusion_matrix, roc_auc_score, accuracy_score, precision_score, recall_score, f1_score, roc_curve, auc\n",
    "\n",
    "\n",
    "%matplotlib inline"
   ]
  },
  {
   "cell_type": "code",
   "execution_count": 62,
   "metadata": {},
   "outputs": [],
   "source": [
    "pd.set_option('display.max_columns', None)\n",
    "# pd.set_option('display.max_rows', None)"
   ]
  },
  {
   "cell_type": "markdown",
   "metadata": {},
   "source": [
    "## Training Set Setup\n",
    "\n",
    "The first step of Model Optimization is to set up the data itself. We will divide the data into two parts. The first part is data that we use to train our model. And the second one is used for evaluating the data. We can divide the data using the train test split."
   ]
  },
  {
   "cell_type": "code",
   "execution_count": 2,
   "metadata": {},
   "outputs": [
    {
     "data": {
      "text/html": [
       "<div>\n",
       "<style scoped>\n",
       "    .dataframe tbody tr th:only-of-type {\n",
       "        vertical-align: middle;\n",
       "    }\n",
       "\n",
       "    .dataframe tbody tr th {\n",
       "        vertical-align: top;\n",
       "    }\n",
       "\n",
       "    .dataframe thead th {\n",
       "        text-align: right;\n",
       "    }\n",
       "</style>\n",
       "<table border=\"1\" class=\"dataframe\">\n",
       "  <thead>\n",
       "    <tr style=\"text-align: right;\">\n",
       "      <th></th>\n",
       "      <th>Unnamed: 0</th>\n",
       "      <th>Term</th>\n",
       "      <th>NewExist</th>\n",
       "      <th>GrAppv</th>\n",
       "      <th>SBA_Appv</th>\n",
       "      <th>RevLineCr</th>\n",
       "      <th>LowDoc</th>\n",
       "      <th>NAICS_11</th>\n",
       "      <th>NAICS_21</th>\n",
       "      <th>NAICS_22</th>\n",
       "      <th>...</th>\n",
       "      <th>NAICS_54</th>\n",
       "      <th>NAICS_55</th>\n",
       "      <th>NAICS_56</th>\n",
       "      <th>NAICS_61</th>\n",
       "      <th>NAICS_62</th>\n",
       "      <th>NAICS_71</th>\n",
       "      <th>NAICS_72</th>\n",
       "      <th>NAICS_81</th>\n",
       "      <th>NAICS_92</th>\n",
       "      <th>Approve</th>\n",
       "    </tr>\n",
       "  </thead>\n",
       "  <tbody>\n",
       "    <tr>\n",
       "      <td>0</td>\n",
       "      <td>0</td>\n",
       "      <td>84</td>\n",
       "      <td>2.0</td>\n",
       "      <td>60000</td>\n",
       "      <td>48000</td>\n",
       "      <td>0</td>\n",
       "      <td>1</td>\n",
       "      <td>0</td>\n",
       "      <td>0</td>\n",
       "      <td>0</td>\n",
       "      <td>...</td>\n",
       "      <td>0</td>\n",
       "      <td>0</td>\n",
       "      <td>0</td>\n",
       "      <td>0</td>\n",
       "      <td>0</td>\n",
       "      <td>0</td>\n",
       "      <td>0</td>\n",
       "      <td>0</td>\n",
       "      <td>0</td>\n",
       "      <td>1</td>\n",
       "    </tr>\n",
       "    <tr>\n",
       "      <td>1</td>\n",
       "      <td>1</td>\n",
       "      <td>60</td>\n",
       "      <td>2.0</td>\n",
       "      <td>40000</td>\n",
       "      <td>32000</td>\n",
       "      <td>0</td>\n",
       "      <td>1</td>\n",
       "      <td>0</td>\n",
       "      <td>0</td>\n",
       "      <td>0</td>\n",
       "      <td>...</td>\n",
       "      <td>0</td>\n",
       "      <td>0</td>\n",
       "      <td>0</td>\n",
       "      <td>0</td>\n",
       "      <td>0</td>\n",
       "      <td>0</td>\n",
       "      <td>1</td>\n",
       "      <td>0</td>\n",
       "      <td>0</td>\n",
       "      <td>1</td>\n",
       "    </tr>\n",
       "    <tr>\n",
       "      <td>2</td>\n",
       "      <td>2</td>\n",
       "      <td>180</td>\n",
       "      <td>1.0</td>\n",
       "      <td>287000</td>\n",
       "      <td>215250</td>\n",
       "      <td>0</td>\n",
       "      <td>0</td>\n",
       "      <td>0</td>\n",
       "      <td>0</td>\n",
       "      <td>0</td>\n",
       "      <td>...</td>\n",
       "      <td>0</td>\n",
       "      <td>0</td>\n",
       "      <td>0</td>\n",
       "      <td>0</td>\n",
       "      <td>1</td>\n",
       "      <td>0</td>\n",
       "      <td>0</td>\n",
       "      <td>0</td>\n",
       "      <td>0</td>\n",
       "      <td>1</td>\n",
       "    </tr>\n",
       "    <tr>\n",
       "      <td>3</td>\n",
       "      <td>5</td>\n",
       "      <td>120</td>\n",
       "      <td>1.0</td>\n",
       "      <td>517000</td>\n",
       "      <td>387750</td>\n",
       "      <td>0</td>\n",
       "      <td>0</td>\n",
       "      <td>0</td>\n",
       "      <td>0</td>\n",
       "      <td>0</td>\n",
       "      <td>...</td>\n",
       "      <td>0</td>\n",
       "      <td>0</td>\n",
       "      <td>0</td>\n",
       "      <td>0</td>\n",
       "      <td>0</td>\n",
       "      <td>0</td>\n",
       "      <td>0</td>\n",
       "      <td>0</td>\n",
       "      <td>0</td>\n",
       "      <td>1</td>\n",
       "    </tr>\n",
       "    <tr>\n",
       "      <td>4</td>\n",
       "      <td>7</td>\n",
       "      <td>84</td>\n",
       "      <td>2.0</td>\n",
       "      <td>45000</td>\n",
       "      <td>36000</td>\n",
       "      <td>0</td>\n",
       "      <td>1</td>\n",
       "      <td>0</td>\n",
       "      <td>0</td>\n",
       "      <td>0</td>\n",
       "      <td>...</td>\n",
       "      <td>0</td>\n",
       "      <td>0</td>\n",
       "      <td>0</td>\n",
       "      <td>0</td>\n",
       "      <td>0</td>\n",
       "      <td>0</td>\n",
       "      <td>0</td>\n",
       "      <td>1</td>\n",
       "      <td>0</td>\n",
       "      <td>1</td>\n",
       "    </tr>\n",
       "  </tbody>\n",
       "</table>\n",
       "<p>5 rows × 28 columns</p>\n",
       "</div>"
      ],
      "text/plain": [
       "   Unnamed: 0  Term  NewExist  GrAppv  SBA_Appv  RevLineCr  LowDoc  NAICS_11  \\\n",
       "0           0    84       2.0   60000     48000          0       1         0   \n",
       "1           1    60       2.0   40000     32000          0       1         0   \n",
       "2           2   180       1.0  287000    215250          0       0         0   \n",
       "3           5   120       1.0  517000    387750          0       0         0   \n",
       "4           7    84       2.0   45000     36000          0       1         0   \n",
       "\n",
       "   NAICS_21  NAICS_22  ...  NAICS_54  NAICS_55  NAICS_56  NAICS_61  NAICS_62  \\\n",
       "0         0         0  ...         0         0         0         0         0   \n",
       "1         0         0  ...         0         0         0         0         0   \n",
       "2         0         0  ...         0         0         0         0         1   \n",
       "3         0         0  ...         0         0         0         0         0   \n",
       "4         0         0  ...         0         0         0         0         0   \n",
       "\n",
       "   NAICS_71  NAICS_72  NAICS_81  NAICS_92  Approve  \n",
       "0         0         0         0         0        1  \n",
       "1         0         1         0         0        1  \n",
       "2         0         0         0         0        1  \n",
       "3         0         0         0         0        1  \n",
       "4         0         0         1         0        1  \n",
       "\n",
       "[5 rows x 28 columns]"
      ]
     },
     "execution_count": 2,
     "metadata": {},
     "output_type": "execute_result"
    }
   ],
   "source": [
    "data = pd.read_csv('SBA_Loan_Data.csv')\n",
    "data.head()"
   ]
  },
  {
   "cell_type": "code",
   "execution_count": 3,
   "metadata": {},
   "outputs": [],
   "source": [
    "target = data.Approve\n",
    "data.drop(['Approve','Unnamed: 0'], axis=1, inplace=True)"
   ]
  },
  {
   "cell_type": "code",
   "execution_count": 4,
   "metadata": {},
   "outputs": [],
   "source": [
    "X_train, X_test, y_train, y_test = train_test_split(data, target, test_size=.20, random_state=101)"
   ]
  },
  {
   "cell_type": "code",
   "execution_count": 5,
   "metadata": {},
   "outputs": [
    {
     "data": {
      "text/html": [
       "<div>\n",
       "<style scoped>\n",
       "    .dataframe tbody tr th:only-of-type {\n",
       "        vertical-align: middle;\n",
       "    }\n",
       "\n",
       "    .dataframe tbody tr th {\n",
       "        vertical-align: top;\n",
       "    }\n",
       "\n",
       "    .dataframe thead th {\n",
       "        text-align: right;\n",
       "    }\n",
       "</style>\n",
       "<table border=\"1\" class=\"dataframe\">\n",
       "  <thead>\n",
       "    <tr style=\"text-align: right;\">\n",
       "      <th></th>\n",
       "      <th>Term</th>\n",
       "      <th>NewExist</th>\n",
       "      <th>GrAppv</th>\n",
       "      <th>SBA_Appv</th>\n",
       "      <th>RevLineCr</th>\n",
       "      <th>LowDoc</th>\n",
       "      <th>NAICS_11</th>\n",
       "      <th>NAICS_21</th>\n",
       "      <th>NAICS_22</th>\n",
       "      <th>NAICS_23</th>\n",
       "      <th>...</th>\n",
       "      <th>NAICS_53</th>\n",
       "      <th>NAICS_54</th>\n",
       "      <th>NAICS_55</th>\n",
       "      <th>NAICS_56</th>\n",
       "      <th>NAICS_61</th>\n",
       "      <th>NAICS_62</th>\n",
       "      <th>NAICS_71</th>\n",
       "      <th>NAICS_72</th>\n",
       "      <th>NAICS_81</th>\n",
       "      <th>NAICS_92</th>\n",
       "    </tr>\n",
       "  </thead>\n",
       "  <tbody>\n",
       "    <tr>\n",
       "      <td>58347</td>\n",
       "      <td>44</td>\n",
       "      <td>2.0</td>\n",
       "      <td>18700</td>\n",
       "      <td>9350</td>\n",
       "      <td>0</td>\n",
       "      <td>0</td>\n",
       "      <td>0</td>\n",
       "      <td>0</td>\n",
       "      <td>0</td>\n",
       "      <td>0</td>\n",
       "      <td>...</td>\n",
       "      <td>0</td>\n",
       "      <td>0</td>\n",
       "      <td>0</td>\n",
       "      <td>0</td>\n",
       "      <td>0</td>\n",
       "      <td>1</td>\n",
       "      <td>0</td>\n",
       "      <td>0</td>\n",
       "      <td>0</td>\n",
       "      <td>0</td>\n",
       "    </tr>\n",
       "    <tr>\n",
       "      <td>426166</td>\n",
       "      <td>48</td>\n",
       "      <td>2.0</td>\n",
       "      <td>30000</td>\n",
       "      <td>27000</td>\n",
       "      <td>0</td>\n",
       "      <td>1</td>\n",
       "      <td>0</td>\n",
       "      <td>0</td>\n",
       "      <td>0</td>\n",
       "      <td>1</td>\n",
       "      <td>...</td>\n",
       "      <td>0</td>\n",
       "      <td>0</td>\n",
       "      <td>0</td>\n",
       "      <td>0</td>\n",
       "      <td>0</td>\n",
       "      <td>0</td>\n",
       "      <td>0</td>\n",
       "      <td>0</td>\n",
       "      <td>0</td>\n",
       "      <td>0</td>\n",
       "    </tr>\n",
       "    <tr>\n",
       "      <td>312301</td>\n",
       "      <td>72</td>\n",
       "      <td>1.0</td>\n",
       "      <td>150000</td>\n",
       "      <td>127500</td>\n",
       "      <td>0</td>\n",
       "      <td>0</td>\n",
       "      <td>0</td>\n",
       "      <td>0</td>\n",
       "      <td>0</td>\n",
       "      <td>0</td>\n",
       "      <td>...</td>\n",
       "      <td>0</td>\n",
       "      <td>0</td>\n",
       "      <td>0</td>\n",
       "      <td>0</td>\n",
       "      <td>0</td>\n",
       "      <td>0</td>\n",
       "      <td>0</td>\n",
       "      <td>1</td>\n",
       "      <td>0</td>\n",
       "      <td>0</td>\n",
       "    </tr>\n",
       "  </tbody>\n",
       "</table>\n",
       "<p>3 rows × 26 columns</p>\n",
       "</div>"
      ],
      "text/plain": [
       "        Term  NewExist  GrAppv  SBA_Appv  RevLineCr  LowDoc  NAICS_11  \\\n",
       "58347     44       2.0   18700      9350          0       0         0   \n",
       "426166    48       2.0   30000     27000          0       1         0   \n",
       "312301    72       1.0  150000    127500          0       0         0   \n",
       "\n",
       "        NAICS_21  NAICS_22  NAICS_23  ...  NAICS_53  NAICS_54  NAICS_55  \\\n",
       "58347          0         0         0  ...         0         0         0   \n",
       "426166         0         0         1  ...         0         0         0   \n",
       "312301         0         0         0  ...         0         0         0   \n",
       "\n",
       "        NAICS_56  NAICS_61  NAICS_62  NAICS_71  NAICS_72  NAICS_81  NAICS_92  \n",
       "58347          0         0         1         0         0         0         0  \n",
       "426166         0         0         0         0         0         0         0  \n",
       "312301         0         0         0         0         1         0         0  \n",
       "\n",
       "[3 rows x 26 columns]"
      ]
     },
     "execution_count": 5,
     "metadata": {},
     "output_type": "execute_result"
    }
   ],
   "source": [
    "X_train.head(3)"
   ]
  },
  {
   "cell_type": "code",
   "execution_count": 6,
   "metadata": {
    "scrolled": true
   },
   "outputs": [
    {
     "data": {
      "text/html": [
       "<div>\n",
       "<style scoped>\n",
       "    .dataframe tbody tr th:only-of-type {\n",
       "        vertical-align: middle;\n",
       "    }\n",
       "\n",
       "    .dataframe tbody tr th {\n",
       "        vertical-align: top;\n",
       "    }\n",
       "\n",
       "    .dataframe thead th {\n",
       "        text-align: right;\n",
       "    }\n",
       "</style>\n",
       "<table border=\"1\" class=\"dataframe\">\n",
       "  <thead>\n",
       "    <tr style=\"text-align: right;\">\n",
       "      <th></th>\n",
       "      <th>Term</th>\n",
       "      <th>NewExist</th>\n",
       "      <th>GrAppv</th>\n",
       "      <th>SBA_Appv</th>\n",
       "      <th>RevLineCr</th>\n",
       "      <th>LowDoc</th>\n",
       "      <th>NAICS_11</th>\n",
       "      <th>NAICS_21</th>\n",
       "      <th>NAICS_22</th>\n",
       "      <th>NAICS_23</th>\n",
       "      <th>...</th>\n",
       "      <th>NAICS_53</th>\n",
       "      <th>NAICS_54</th>\n",
       "      <th>NAICS_55</th>\n",
       "      <th>NAICS_56</th>\n",
       "      <th>NAICS_61</th>\n",
       "      <th>NAICS_62</th>\n",
       "      <th>NAICS_71</th>\n",
       "      <th>NAICS_72</th>\n",
       "      <th>NAICS_81</th>\n",
       "      <th>NAICS_92</th>\n",
       "    </tr>\n",
       "  </thead>\n",
       "  <tbody>\n",
       "    <tr>\n",
       "      <td>164089</td>\n",
       "      <td>76</td>\n",
       "      <td>1.0</td>\n",
       "      <td>20000</td>\n",
       "      <td>10000</td>\n",
       "      <td>1</td>\n",
       "      <td>0</td>\n",
       "      <td>0</td>\n",
       "      <td>0</td>\n",
       "      <td>0</td>\n",
       "      <td>0</td>\n",
       "      <td>...</td>\n",
       "      <td>0</td>\n",
       "      <td>1</td>\n",
       "      <td>0</td>\n",
       "      <td>0</td>\n",
       "      <td>0</td>\n",
       "      <td>0</td>\n",
       "      <td>0</td>\n",
       "      <td>0</td>\n",
       "      <td>0</td>\n",
       "      <td>0</td>\n",
       "    </tr>\n",
       "    <tr>\n",
       "      <td>357382</td>\n",
       "      <td>84</td>\n",
       "      <td>1.0</td>\n",
       "      <td>30000</td>\n",
       "      <td>15000</td>\n",
       "      <td>1</td>\n",
       "      <td>0</td>\n",
       "      <td>0</td>\n",
       "      <td>0</td>\n",
       "      <td>0</td>\n",
       "      <td>0</td>\n",
       "      <td>...</td>\n",
       "      <td>0</td>\n",
       "      <td>0</td>\n",
       "      <td>0</td>\n",
       "      <td>0</td>\n",
       "      <td>0</td>\n",
       "      <td>0</td>\n",
       "      <td>0</td>\n",
       "      <td>0</td>\n",
       "      <td>0</td>\n",
       "      <td>0</td>\n",
       "    </tr>\n",
       "    <tr>\n",
       "      <td>311277</td>\n",
       "      <td>84</td>\n",
       "      <td>1.0</td>\n",
       "      <td>110000</td>\n",
       "      <td>99000</td>\n",
       "      <td>0</td>\n",
       "      <td>0</td>\n",
       "      <td>0</td>\n",
       "      <td>0</td>\n",
       "      <td>0</td>\n",
       "      <td>0</td>\n",
       "      <td>...</td>\n",
       "      <td>0</td>\n",
       "      <td>0</td>\n",
       "      <td>0</td>\n",
       "      <td>0</td>\n",
       "      <td>0</td>\n",
       "      <td>0</td>\n",
       "      <td>0</td>\n",
       "      <td>0</td>\n",
       "      <td>0</td>\n",
       "      <td>0</td>\n",
       "    </tr>\n",
       "  </tbody>\n",
       "</table>\n",
       "<p>3 rows × 26 columns</p>\n",
       "</div>"
      ],
      "text/plain": [
       "        Term  NewExist  GrAppv  SBA_Appv  RevLineCr  LowDoc  NAICS_11  \\\n",
       "164089    76       1.0   20000     10000          1       0         0   \n",
       "357382    84       1.0   30000     15000          1       0         0   \n",
       "311277    84       1.0  110000     99000          0       0         0   \n",
       "\n",
       "        NAICS_21  NAICS_22  NAICS_23  ...  NAICS_53  NAICS_54  NAICS_55  \\\n",
       "164089         0         0         0  ...         0         1         0   \n",
       "357382         0         0         0  ...         0         0         0   \n",
       "311277         0         0         0  ...         0         0         0   \n",
       "\n",
       "        NAICS_56  NAICS_61  NAICS_62  NAICS_71  NAICS_72  NAICS_81  NAICS_92  \n",
       "164089         0         0         0         0         0         0         0  \n",
       "357382         0         0         0         0         0         0         0  \n",
       "311277         0         0         0         0         0         0         0  \n",
       "\n",
       "[3 rows x 26 columns]"
      ]
     },
     "execution_count": 6,
     "metadata": {},
     "output_type": "execute_result"
    }
   ],
   "source": [
    "X_test.head(3)"
   ]
  },
  {
   "cell_type": "markdown",
   "metadata": {},
   "source": [
    "## Modelling"
   ]
  },
  {
   "cell_type": "markdown",
   "metadata": {},
   "source": [
    "Since we have a classification case for our project, we will use some classification algorithm for our model. In this project, we will use six classification models to determine whether a loan can be approved or not.\n",
    "\n",
    "- Logistic Regression\n",
    "- Decision Tree\n",
    "- Random Forest\n",
    "- Ada Boost\n",
    "- Gradient Boost\n",
    "- KNN Classifier\n",
    "\n",
    "\n",
    "The steps that I'll take in finding a model with hyperparameters and the best score are:\n",
    "1. Make a Hyperparameters Grid for each model.\n",
    "2. Do hyperparameter tuning on each model. Some of the models are done by using RandomizedSearchCV to saving time since the two last models have a long fitting time using GridSearchCV.\n",
    "3. After we have the best hyperparameter for each model, we will compare and evaluate the model using the confusion matrix and ROC-AUC score.\n",
    "4. Verifying the chosen model with an oversampling method to determine the data will better or not using the oversampling.\n",
    "5. Save the model using joblib library."
   ]
  },
  {
   "cell_type": "markdown",
   "metadata": {},
   "source": [
    "### 1. Logistic Regression"
   ]
  },
  {
   "cell_type": "code",
   "execution_count": 9,
   "metadata": {},
   "outputs": [],
   "source": [
    "logreg = LogisticRegression()"
   ]
  },
  {
   "cell_type": "code",
   "execution_count": 10,
   "metadata": {},
   "outputs": [
    {
     "name": "stderr",
     "output_type": "stream",
     "text": [
      "C:\\ProgramData\\Anaconda3\\lib\\site-packages\\sklearn\\linear_model\\logistic.py:432: FutureWarning: Default solver will be changed to 'lbfgs' in 0.22. Specify a solver to silence this warning.\n",
      "  FutureWarning)\n"
     ]
    },
    {
     "data": {
      "text/plain": [
       "LogisticRegression(C=1.0, class_weight=None, dual=False, fit_intercept=True,\n",
       "                   intercept_scaling=1, l1_ratio=None, max_iter=100,\n",
       "                   multi_class='warn', n_jobs=None, penalty='l2',\n",
       "                   random_state=None, solver='warn', tol=0.0001, verbose=0,\n",
       "                   warm_start=False)"
      ]
     },
     "execution_count": 10,
     "metadata": {},
     "output_type": "execute_result"
    }
   ],
   "source": [
    "# Best Grid HyperParameterTuning\n",
    "logreg_grid = LogisticRegression()\n",
    "logreg_grid.fit(X_train, y_train)"
   ]
  },
  {
   "cell_type": "code",
   "execution_count": null,
   "metadata": {},
   "outputs": [],
   "source": [
    "For The Sake of Safety"
   ]
  },
  {
   "cell_type": "code",
   "execution_count": 12,
   "metadata": {},
   "outputs": [
    {
     "name": "stderr",
     "output_type": "stream",
     "text": [
      "C:\\ProgramData\\Anaconda3\\lib\\site-packages\\sklearn\\linear_model\\logistic.py:432: FutureWarning: Default solver will be changed to 'lbfgs' in 0.22. Specify a solver to silence this warning.\n",
      "  FutureWarning)\n"
     ]
    },
    {
     "data": {
      "text/plain": [
       "GridSearchCV(cv=5, error_score='raise-deprecating',\n",
       "             estimator=LogisticRegression(C=1.0, class_weight=None, dual=False,\n",
       "                                          fit_intercept=True,\n",
       "                                          intercept_scaling=1, l1_ratio=None,\n",
       "                                          max_iter=100, multi_class='warn',\n",
       "                                          n_jobs=None, penalty='l2',\n",
       "                                          random_state=None, solver='warn',\n",
       "                                          tol=0.0001, verbose=0,\n",
       "                                          warm_start=False),\n",
       "             iid='warn', n_jobs=-1, param_grid={'max_iter': [100, 200, 300]},\n",
       "             pre_dispatch='2*n_jobs', refit=True, return_train_score=False,\n",
       "             scoring='roc_auc', verbose=0)"
      ]
     },
     "execution_count": 12,
     "metadata": {},
     "output_type": "execute_result"
    }
   ],
   "source": [
    "param_grid_logreg = {\n",
    "    'max_iter': [100, 200, 300],\n",
    "}\n",
    "grid_search_logreg = GridSearchCV(estimator=logreg, param_grid=param_grid_logreg, scoring='roc_auc', cv=5, n_jobs=-1)\n",
    "grid_search_logreg.fit(X_train, y_train)"
   ]
  },
  {
   "cell_type": "code",
   "execution_count": 13,
   "metadata": {},
   "outputs": [
    {
     "data": {
      "text/plain": [
       "{'max_iter': 100}"
      ]
     },
     "execution_count": 13,
     "metadata": {},
     "output_type": "execute_result"
    }
   ],
   "source": [
    "grid_search_logreg.best_params_"
   ]
  },
  {
   "cell_type": "code",
   "execution_count": 14,
   "metadata": {},
   "outputs": [],
   "source": [
    "logreg_grid = grid_search_logreg.best_estimator_"
   ]
  },
  {
   "cell_type": "code",
   "execution_count": 15,
   "metadata": {},
   "outputs": [],
   "source": [
    "logreg_grid_pred = logreg_grid.predict(X_test)\n",
    "logreg_grid_proba = logreg_grid.predict_proba(X_test)"
   ]
  },
  {
   "cell_type": "code",
   "execution_count": 16,
   "metadata": {},
   "outputs": [
    {
     "data": {
      "text/plain": [
       "array([1, 1, 1, ..., 1, 1, 1], dtype=int64)"
      ]
     },
     "execution_count": 16,
     "metadata": {},
     "output_type": "execute_result"
    }
   ],
   "source": [
    "logreg_grid_pred"
   ]
  },
  {
   "cell_type": "code",
   "execution_count": 17,
   "metadata": {},
   "outputs": [
    {
     "name": "stdout",
     "output_type": "stream",
     "text": [
      "              precision    recall  f1-score   support\n",
      "\n",
      "           0       0.67      0.02      0.03     19783\n",
      "           1       0.79      1.00      0.88     72077\n",
      "\n",
      "    accuracy                           0.79     91860\n",
      "   macro avg       0.73      0.51      0.45     91860\n",
      "weighted avg       0.76      0.79      0.70     91860\n",
      "\n"
     ]
    }
   ],
   "source": [
    "print(classification_report(y_test, logreg_grid_pred))"
   ]
  },
  {
   "cell_type": "code",
   "execution_count": 18,
   "metadata": {},
   "outputs": [
    {
     "name": "stdout",
     "output_type": "stream",
     "text": [
      "[[  301 19482]\n",
      " [  148 71929]]\n"
     ]
    }
   ],
   "source": [
    "tnlogreg, fplogreg, fnlogreg, tplogreg = confusion_matrix(y_test, logreg_grid_pred).ravel()\n",
    "print(confusion_matrix(y_test, logreg_grid_pred))"
   ]
  },
  {
   "cell_type": "markdown",
   "metadata": {},
   "source": [
    "### 2. Decision Tree"
   ]
  },
  {
   "cell_type": "code",
   "execution_count": 19,
   "metadata": {},
   "outputs": [],
   "source": [
    "dtc = DecisionTreeClassifier()"
   ]
  },
  {
   "cell_type": "code",
   "execution_count": 69,
   "metadata": {},
   "outputs": [
    {
     "data": {
      "text/plain": [
       "DecisionTreeClassifier(class_weight=None, criterion='gini', max_depth=10,\n",
       "                       max_features=None, max_leaf_nodes=None,\n",
       "                       min_impurity_decrease=0.0, min_impurity_split=None,\n",
       "                       min_samples_leaf=1, min_samples_split=20,\n",
       "                       min_weight_fraction_leaf=0.0, presort=False,\n",
       "                       random_state=None, splitter='best')"
      ]
     },
     "execution_count": 69,
     "metadata": {},
     "output_type": "execute_result"
    }
   ],
   "source": [
    "# Best Decision Tree Hyperparameter Tuning\n",
    "dtc_grid = DecisionTreeClassifier(criterion='gini',max_depth=10,min_samples_split=20)\n",
    "dtc_grid.fit(X_train, y_train)"
   ]
  },
  {
   "cell_type": "code",
   "execution_count": 20,
   "metadata": {},
   "outputs": [
    {
     "data": {
      "text/plain": [
       "GridSearchCV(cv=5, error_score='raise-deprecating',\n",
       "             estimator=DecisionTreeClassifier(class_weight=None,\n",
       "                                              criterion='gini', max_depth=None,\n",
       "                                              max_features=None,\n",
       "                                              max_leaf_nodes=None,\n",
       "                                              min_impurity_decrease=0.0,\n",
       "                                              min_impurity_split=None,\n",
       "                                              min_samples_leaf=1,\n",
       "                                              min_samples_split=2,\n",
       "                                              min_weight_fraction_leaf=0.0,\n",
       "                                              presort=False, random_state=None,\n",
       "                                              splitter='best'),\n",
       "             iid='warn', n_jobs=-1,\n",
       "             param_grid={'criterion': ['gini', 'entropy'],\n",
       "                         'max_depth': [10, 15, 20],\n",
       "                         'min_samples_split': [2, 5, 10, 20]},\n",
       "             pre_dispatch='2*n_jobs', refit=True, return_train_score=False,\n",
       "             scoring='roc_auc', verbose=0)"
      ]
     },
     "execution_count": 20,
     "metadata": {},
     "output_type": "execute_result"
    }
   ],
   "source": [
    "param_grid_dtc = {\n",
    "    'criterion': ['gini', 'entropy'],\n",
    "    'max_depth': [10,15,20],\n",
    "    'min_samples_split': [2,5,10,20],\n",
    "}\n",
    "grid_search_dtc = GridSearchCV(estimator=dtc, param_grid=param_grid_dtc, scoring='roc_auc', cv=5, n_jobs=-1)\n",
    "grid_search_dtc.fit(X_train, y_train)"
   ]
  },
  {
   "cell_type": "code",
   "execution_count": 21,
   "metadata": {},
   "outputs": [
    {
     "data": {
      "text/plain": [
       "{'criterion': 'gini', 'max_depth': 10, 'min_samples_split': 20}"
      ]
     },
     "execution_count": 21,
     "metadata": {},
     "output_type": "execute_result"
    }
   ],
   "source": [
    "grid_search_dtc.best_params_"
   ]
  },
  {
   "cell_type": "code",
   "execution_count": 22,
   "metadata": {},
   "outputs": [],
   "source": [
    "dtc_grid = grid_search_dtc.best_estimator_"
   ]
  },
  {
   "cell_type": "code",
   "execution_count": 21,
   "metadata": {},
   "outputs": [],
   "source": [
    "dtc_grid_pred = dtc_grid.predict(X_test)\n",
    "dtc_grid_proba = dtc_grid.predict_proba(X_test)"
   ]
  },
  {
   "cell_type": "code",
   "execution_count": 22,
   "metadata": {},
   "outputs": [
    {
     "data": {
      "text/plain": [
       "array([0, 1, 1, ..., 1, 1, 1], dtype=int64)"
      ]
     },
     "execution_count": 22,
     "metadata": {},
     "output_type": "execute_result"
    }
   ],
   "source": [
    "dtc_grid_pred"
   ]
  },
  {
   "cell_type": "code",
   "execution_count": 23,
   "metadata": {},
   "outputs": [
    {
     "name": "stdout",
     "output_type": "stream",
     "text": [
      "              precision    recall  f1-score   support\n",
      "\n",
      "           0       0.84      0.84      0.84     19783\n",
      "           1       0.96      0.96      0.96     72077\n",
      "\n",
      "    accuracy                           0.93     91860\n",
      "   macro avg       0.90      0.90      0.90     91860\n",
      "weighted avg       0.93      0.93      0.93     91860\n",
      "\n"
     ]
    }
   ],
   "source": [
    "print(classification_report(y_test, dtc_grid_pred))"
   ]
  },
  {
   "cell_type": "code",
   "execution_count": 24,
   "metadata": {},
   "outputs": [
    {
     "name": "stdout",
     "output_type": "stream",
     "text": [
      "[[16602  3181]\n",
      " [ 3147 68930]]\n"
     ]
    }
   ],
   "source": [
    "tndtc, fpdtc, fndtc, tpdtc = confusion_matrix(y_test, dtc_grid_pred).ravel()\n",
    "print(confusion_matrix(y_test, dtc_grid_pred))"
   ]
  },
  {
   "cell_type": "markdown",
   "metadata": {},
   "source": [
    "### 3. Random Forest"
   ]
  },
  {
   "cell_type": "code",
   "execution_count": 25,
   "metadata": {},
   "outputs": [],
   "source": [
    "rfc = RandomForestClassifier()"
   ]
  },
  {
   "cell_type": "code",
   "execution_count": 26,
   "metadata": {},
   "outputs": [
    {
     "data": {
      "text/plain": [
       "RandomForestClassifier(bootstrap=True, class_weight=None, criterion='gini',\n",
       "                       max_depth=20, max_features='auto', max_leaf_nodes=None,\n",
       "                       min_impurity_decrease=0.0, min_impurity_split=None,\n",
       "                       min_samples_leaf=1, min_samples_split=10,\n",
       "                       min_weight_fraction_leaf=0.0, n_estimators=200,\n",
       "                       n_jobs=None, oob_score=False, random_state=None,\n",
       "                       verbose=0, warm_start=False)"
      ]
     },
     "execution_count": 26,
     "metadata": {},
     "output_type": "execute_result"
    }
   ],
   "source": [
    "# Best Random Forest Hyperparameter Tuning\n",
    "rfc_grid = RandomForestClassifier(bootstrap=True, criterion='gini',max_depth=20,min_samples_split=10, n_estimators=200)\n",
    "rfc_grid.fit(X_train, y_train)"
   ]
  },
  {
   "cell_type": "code",
   "execution_count": 29,
   "metadata": {},
   "outputs": [
    {
     "data": {
      "text/plain": [
       "GridSearchCV(cv=5, error_score='raise-deprecating',\n",
       "             estimator=RandomForestClassifier(bootstrap=True, class_weight=None,\n",
       "                                              criterion='gini', max_depth=None,\n",
       "                                              max_features='auto',\n",
       "                                              max_leaf_nodes=None,\n",
       "                                              min_impurity_decrease=0.0,\n",
       "                                              min_impurity_split=None,\n",
       "                                              min_samples_leaf=1,\n",
       "                                              min_samples_split=2,\n",
       "                                              min_weight_fraction_leaf=0.0,\n",
       "                                              n_estimators='warn', n_jobs=None,\n",
       "                                              oob_score=False,\n",
       "                                              random_state=None, verbose=0,\n",
       "                                              warm_start=False),\n",
       "             iid='warn', n_jobs=-1,\n",
       "             param_grid={'bootstrap': [True, False],\n",
       "                         'criterion': ['gini', 'entropy'],\n",
       "                         'max_depth': [10, 15, 20],\n",
       "                         'min_samples_split': [2, 5, 10, 20],\n",
       "                         'n_estimators': [100, 200]},\n",
       "             pre_dispatch='2*n_jobs', refit=True, return_train_score=False,\n",
       "             scoring='roc_auc', verbose=0)"
      ]
     },
     "execution_count": 29,
     "metadata": {},
     "output_type": "execute_result"
    }
   ],
   "source": [
    "param_grid_rfc = {\n",
    "    'bootstrap': [True, False],\n",
    "    'criterion': ['gini', 'entropy'],\n",
    "    'max_depth': [10,15,20],\n",
    "    'min_samples_split': [2,5,10,20],\n",
    "    'n_estimators': [100,200]\n",
    "}\n",
    "grid_search_rfc = GridSearchCV(estimator=rfc, param_grid=param_grid_rfc, scoring='roc_auc', cv=5, n_jobs=-1)\n",
    "grid_search_rfc.fit(X_train, y_train)"
   ]
  },
  {
   "cell_type": "code",
   "execution_count": 30,
   "metadata": {},
   "outputs": [
    {
     "data": {
      "text/plain": [
       "{'bootstrap': True,\n",
       " 'criterion': 'gini',\n",
       " 'max_depth': 20,\n",
       " 'min_samples_split': 10,\n",
       " 'n_estimators': 200}"
      ]
     },
     "execution_count": 30,
     "metadata": {},
     "output_type": "execute_result"
    }
   ],
   "source": [
    "grid_search_rfc.best_params_"
   ]
  },
  {
   "cell_type": "code",
   "execution_count": 31,
   "metadata": {},
   "outputs": [],
   "source": [
    "rfc_grid = grid_search_rfc.best_estimator_"
   ]
  },
  {
   "cell_type": "code",
   "execution_count": 27,
   "metadata": {},
   "outputs": [],
   "source": [
    "rfc_grid_pred = rfc_grid.predict(X_test)\n",
    "rfc_grid_proba = rfc_grid.predict_proba(X_test)"
   ]
  },
  {
   "cell_type": "code",
   "execution_count": 28,
   "metadata": {},
   "outputs": [
    {
     "name": "stdout",
     "output_type": "stream",
     "text": [
      "              precision    recall  f1-score   support\n",
      "\n",
      "           0       0.83      0.82      0.82     19783\n",
      "           1       0.95      0.95      0.95     72077\n",
      "\n",
      "    accuracy                           0.92     91860\n",
      "   macro avg       0.89      0.89      0.89     91860\n",
      "weighted avg       0.92      0.92      0.92     91860\n",
      "\n"
     ]
    }
   ],
   "source": [
    "print(classification_report(y_test, rfc_grid_pred))"
   ]
  },
  {
   "cell_type": "code",
   "execution_count": 29,
   "metadata": {},
   "outputs": [
    {
     "name": "stdout",
     "output_type": "stream",
     "text": [
      "[[16227  3556]\n",
      " [ 3372 68705]]\n"
     ]
    }
   ],
   "source": [
    "tnrfc, fprfc, fnrfc, tprfc = confusion_matrix(y_test, rfc_grid_pred).ravel()\n",
    "print(confusion_matrix(y_test, rfc_grid_pred))"
   ]
  },
  {
   "cell_type": "markdown",
   "metadata": {},
   "source": [
    "### 4. Ada Boosting"
   ]
  },
  {
   "cell_type": "code",
   "execution_count": 30,
   "metadata": {},
   "outputs": [],
   "source": [
    "abc = AdaBoostClassifier()"
   ]
  },
  {
   "cell_type": "code",
   "execution_count": 31,
   "metadata": {},
   "outputs": [
    {
     "data": {
      "text/plain": [
       "AdaBoostClassifier(algorithm='SAMME.R', base_estimator=None, learning_rate=1.0,\n",
       "                   n_estimators=200, random_state=None)"
      ]
     },
     "execution_count": 31,
     "metadata": {},
     "output_type": "execute_result"
    }
   ],
   "source": [
    "# Best Ada Boost Hyperparameter Tuning\n",
    "abc_grid = AdaBoostClassifier(learning_rate=1.0, n_estimators=200)\n",
    "abc_grid.fit(X_train, y_train)"
   ]
  },
  {
   "cell_type": "code",
   "execution_count": 37,
   "metadata": {},
   "outputs": [
    {
     "data": {
      "text/plain": [
       "GridSearchCV(cv=5, error_score='raise-deprecating',\n",
       "             estimator=AdaBoostClassifier(algorithm='SAMME.R',\n",
       "                                          base_estimator=None,\n",
       "                                          learning_rate=1.0, n_estimators=50,\n",
       "                                          random_state=None),\n",
       "             iid='warn', n_jobs=-1,\n",
       "             param_grid={'learning_rate': [0.5, 1.0, 2.0],\n",
       "                         'n_estimators': [50, 100, 200]},\n",
       "             pre_dispatch='2*n_jobs', refit=True, return_train_score=False,\n",
       "             scoring='roc_auc', verbose=0)"
      ]
     },
     "execution_count": 37,
     "metadata": {},
     "output_type": "execute_result"
    }
   ],
   "source": [
    "param_grid_abc = {\n",
    "    'n_estimators': [50, 100,200],\n",
    "    'learning_rate': [0.5, 1.0, 2.0]\n",
    "}\n",
    "grid_search_abc = GridSearchCV(estimator=abc, param_grid=param_grid_abc, scoring='roc_auc', cv=5, n_jobs=-1)\n",
    "grid_search_abc.fit(X_train, y_train)"
   ]
  },
  {
   "cell_type": "code",
   "execution_count": 38,
   "metadata": {},
   "outputs": [
    {
     "data": {
      "text/plain": [
       "{'learning_rate': 1.0, 'n_estimators': 200}"
      ]
     },
     "execution_count": 38,
     "metadata": {},
     "output_type": "execute_result"
    }
   ],
   "source": [
    "grid_search_abc.best_params_"
   ]
  },
  {
   "cell_type": "code",
   "execution_count": 39,
   "metadata": {},
   "outputs": [],
   "source": [
    "abc_grid = grid_search_abc.best_estimator_"
   ]
  },
  {
   "cell_type": "code",
   "execution_count": 32,
   "metadata": {},
   "outputs": [],
   "source": [
    "abc_grid_pred = abc_grid.predict(X_test)\n",
    "abc_grid_proba = abc_grid.predict_proba(X_test)"
   ]
  },
  {
   "cell_type": "code",
   "execution_count": 33,
   "metadata": {},
   "outputs": [
    {
     "name": "stdout",
     "output_type": "stream",
     "text": [
      "              precision    recall  f1-score   support\n",
      "\n",
      "           0       0.82      0.80      0.81     19783\n",
      "           1       0.95      0.95      0.95     72077\n",
      "\n",
      "    accuracy                           0.92     91860\n",
      "   macro avg       0.88      0.88      0.88     91860\n",
      "weighted avg       0.92      0.92      0.92     91860\n",
      "\n"
     ]
    }
   ],
   "source": [
    "print(classification_report(y_test, abc_grid_pred))"
   ]
  },
  {
   "cell_type": "code",
   "execution_count": 34,
   "metadata": {},
   "outputs": [
    {
     "name": "stdout",
     "output_type": "stream",
     "text": [
      "[[15923  3860]\n",
      " [ 3446 68631]]\n"
     ]
    }
   ],
   "source": [
    "tnabc, fpabc, fnabc, tpabc = confusion_matrix(y_test, abc_grid_pred).ravel()\n",
    "print(confusion_matrix(y_test, abc_grid_pred))"
   ]
  },
  {
   "cell_type": "markdown",
   "metadata": {},
   "source": [
    "### 5. Gradient Boosting"
   ]
  },
  {
   "cell_type": "code",
   "execution_count": 35,
   "metadata": {},
   "outputs": [],
   "source": [
    "gbc = GradientBoostingClassifier()"
   ]
  },
  {
   "cell_type": "code",
   "execution_count": 7,
   "metadata": {},
   "outputs": [
    {
     "data": {
      "text/plain": [
       "GradientBoostingClassifier(criterion='friedman_mse', init=None,\n",
       "                           learning_rate=0.1, loss='deviance', max_depth=10,\n",
       "                           max_features=None, max_leaf_nodes=None,\n",
       "                           min_impurity_decrease=0.0, min_impurity_split=None,\n",
       "                           min_samples_leaf=1, min_samples_split=5,\n",
       "                           min_weight_fraction_leaf=0.0, n_estimators=100,\n",
       "                           n_iter_no_change=None, presort='auto',\n",
       "                           random_state=None, subsample=1.0, tol=0.0001,\n",
       "                           validation_fraction=0.1, verbose=0,\n",
       "                           warm_start=False)"
      ]
     },
     "execution_count": 7,
     "metadata": {},
     "output_type": "execute_result"
    }
   ],
   "source": [
    "# Best Gradient Boost Hyperparameter Tuning\n",
    "gbc_random = GradientBoostingClassifier(learning_rate=0.1,max_depth=10, min_samples_split=5 ,n_estimators=100)\n",
    "gbc_random.fit(X_train, y_train)"
   ]
  },
  {
   "cell_type": "code",
   "execution_count": 28,
   "metadata": {},
   "outputs": [
    {
     "name": "stderr",
     "output_type": "stream",
     "text": [
      "C:\\ProgramData\\Anaconda3\\lib\\site-packages\\sklearn\\model_selection\\_split.py:1978: FutureWarning: The default value of cv will change from 3 to 5 in version 0.22. Specify it explicitly to silence this warning.\n",
      "  warnings.warn(CV_WARNING, FutureWarning)\n"
     ]
    },
    {
     "data": {
      "text/plain": [
       "RandomizedSearchCV(cv='warn', error_score='raise-deprecating',\n",
       "                   estimator=GradientBoostingClassifier(criterion='friedman_mse',\n",
       "                                                        init=None,\n",
       "                                                        learning_rate=0.1,\n",
       "                                                        loss='deviance',\n",
       "                                                        max_depth=3,\n",
       "                                                        max_features=None,\n",
       "                                                        max_leaf_nodes=None,\n",
       "                                                        min_impurity_decrease=0.0,\n",
       "                                                        min_impurity_split=None,\n",
       "                                                        min_samples_leaf=1,\n",
       "                                                        min_samples_split=2,\n",
       "                                                        min_weight_fraction_leaf=0.0,\n",
       "                                                        n_estimators=10...\n",
       "                                                        random_state=None,\n",
       "                                                        subsample=1.0,\n",
       "                                                        tol=0.0001,\n",
       "                                                        validation_fraction=0.1,\n",
       "                                                        verbose=0,\n",
       "                                                        warm_start=False),\n",
       "                   iid='warn', n_iter=10, n_jobs=-1,\n",
       "                   param_distributions={'learning_rate': [0.1, 0.5],\n",
       "                                        'max_depth': [3, 10],\n",
       "                                        'min_samples_split': [2, 5],\n",
       "                                        'n_estimators': [100, 200]},\n",
       "                   pre_dispatch='2*n_jobs', random_state=None, refit=True,\n",
       "                   return_train_score=False, scoring='roc_auc', verbose=0)"
      ]
     },
     "execution_count": 28,
     "metadata": {},
     "output_type": "execute_result"
    }
   ],
   "source": [
    "param_random_gbc = {\n",
    "    'learning_rate': [0.1,0.5],\n",
    "    'max_depth' : [3, 10],\n",
    "    'min_samples_split' : [2,5],\n",
    "    'n_estimators' : [100,200]\n",
    "}\n",
    "random_search_gbc = RandomizedSearchCV(estimator=gbc, param_distributions=param_random_gbc, scoring='roc_auc', n_jobs=-1)\n",
    "random_search_gbc.fit(X_train, y_train)"
   ]
  },
  {
   "cell_type": "code",
   "execution_count": 29,
   "metadata": {},
   "outputs": [
    {
     "data": {
      "text/plain": [
       "{'n_estimators': 100,\n",
       " 'min_samples_split': 5,\n",
       " 'max_depth': 10,\n",
       " 'learning_rate': 0.1}"
      ]
     },
     "execution_count": 29,
     "metadata": {},
     "output_type": "execute_result"
    }
   ],
   "source": [
    "random_search_gbc.best_params_"
   ]
  },
  {
   "cell_type": "code",
   "execution_count": 30,
   "metadata": {},
   "outputs": [],
   "source": [
    "gbc_random = random_search_gbc.best_estimator_"
   ]
  },
  {
   "cell_type": "code",
   "execution_count": 8,
   "metadata": {},
   "outputs": [],
   "source": [
    "gbc_random_pred = gbc_random.predict(X_test)\n",
    "gbc_random_proba = gbc_random.predict_proba(X_test)"
   ]
  },
  {
   "cell_type": "code",
   "execution_count": 38,
   "metadata": {},
   "outputs": [
    {
     "name": "stdout",
     "output_type": "stream",
     "text": [
      "              precision    recall  f1-score   support\n",
      "\n",
      "           0       0.86      0.85      0.85     19783\n",
      "           1       0.96      0.96      0.96     72077\n",
      "\n",
      "    accuracy                           0.94     91860\n",
      "   macro avg       0.91      0.90      0.91     91860\n",
      "weighted avg       0.94      0.94      0.94     91860\n",
      "\n"
     ]
    }
   ],
   "source": [
    "print(classification_report(y_test, gbc_random_pred))"
   ]
  },
  {
   "cell_type": "code",
   "execution_count": 9,
   "metadata": {},
   "outputs": [
    {
     "name": "stdout",
     "output_type": "stream",
     "text": [
      "              precision    recall  f1-score   support\n",
      "\n",
      "           0       0.86      0.85      0.85     19783\n",
      "           1       0.96      0.96      0.96     72077\n",
      "\n",
      "    accuracy                           0.94     91860\n",
      "   macro avg       0.91      0.90      0.91     91860\n",
      "weighted avg       0.94      0.94      0.94     91860\n",
      "\n"
     ]
    }
   ],
   "source": [
    "print(classification_report(y_test, gbc_random_pred))"
   ]
  },
  {
   "cell_type": "code",
   "execution_count": 39,
   "metadata": {},
   "outputs": [
    {
     "name": "stdout",
     "output_type": "stream",
     "text": [
      "[[16760  3023]\n",
      " [ 2808 69269]]\n"
     ]
    }
   ],
   "source": [
    "tngbc, fpgbc, fngbc, tpgbc = confusion_matrix(y_test, gbc_random_pred).ravel()\n",
    "print(confusion_matrix(y_test, gbc_random_pred))"
   ]
  },
  {
   "cell_type": "code",
   "execution_count": 10,
   "metadata": {},
   "outputs": [
    {
     "name": "stdout",
     "output_type": "stream",
     "text": [
      "[[16743  3040]\n",
      " [ 2768 69309]]\n"
     ]
    }
   ],
   "source": [
    "tngbc, fpgbc, fngbc, tpgbc = confusion_matrix(y_test, gbc_random_pred).ravel()\n",
    "print(confusion_matrix(y_test, gbc_random_pred))"
   ]
  },
  {
   "cell_type": "markdown",
   "metadata": {},
   "source": [
    "### 6. K-Nearest Neighbors"
   ]
  },
  {
   "cell_type": "code",
   "execution_count": 40,
   "metadata": {},
   "outputs": [],
   "source": [
    "knn = KNeighborsClassifier()"
   ]
  },
  {
   "cell_type": "code",
   "execution_count": 41,
   "metadata": {},
   "outputs": [
    {
     "data": {
      "text/plain": [
       "KNeighborsClassifier(algorithm='auto', leaf_size=10, metric='minkowski',\n",
       "                     metric_params=None, n_jobs=None, n_neighbors=7, p=2,\n",
       "                     weights='uniform')"
      ]
     },
     "execution_count": 41,
     "metadata": {},
     "output_type": "execute_result"
    }
   ],
   "source": [
    "# Best K-Nearest Neighbors Hyperparameter Tuning\n",
    "knn_random = KNeighborsClassifier(leaf_size=10, n_neighbors=7)\n",
    "knn_random.fit(X_train, y_train)"
   ]
  },
  {
   "cell_type": "code",
   "execution_count": 37,
   "metadata": {},
   "outputs": [
    {
     "data": {
      "text/plain": [
       "RandomizedSearchCV(cv=5, error_score='raise-deprecating',\n",
       "                   estimator=KNeighborsClassifier(algorithm='auto',\n",
       "                                                  leaf_size=30,\n",
       "                                                  metric='minkowski',\n",
       "                                                  metric_params=None,\n",
       "                                                  n_jobs=None, n_neighbors=5,\n",
       "                                                  p=2, weights='uniform'),\n",
       "                   iid='warn', n_iter=10, n_jobs=-1,\n",
       "                   param_distributions={'algorithm': ['auto', 'ball_tree',\n",
       "                                                      'kd_tree', 'brute'],\n",
       "                                        'leaf_size': [10, 30],\n",
       "                                        'n_neighbors': [3, 5, 7]},\n",
       "                   pre_dispatch='2*n_jobs', random_state=None, refit=True,\n",
       "                   return_train_score=False, scoring='roc_auc', verbose=0)"
      ]
     },
     "execution_count": 37,
     "metadata": {},
     "output_type": "execute_result"
    }
   ],
   "source": [
    "param_random_knn = {\n",
    "    'algorithm' : ['auto','ball_tree', 'kd_tree','brute']\n",
    "    'n_neighbors' : [3,5,7],\n",
    "    'leaf_size' : [10, 30] \n",
    "}\n",
    "random_search_knn = RandomizedSearchCV(estimator=knn, param_distributions=param_random_knn,cv=5, scoring='roc_auc', n_jobs=-1)\n",
    "random_search_knn.fit(X_train, y_train)"
   ]
  },
  {
   "cell_type": "code",
   "execution_count": 38,
   "metadata": {},
   "outputs": [
    {
     "data": {
      "text/plain": [
       "{'n_neighbors': 7, 'leaf_size': 10, 'algorithm': 'auto'}"
      ]
     },
     "execution_count": 38,
     "metadata": {},
     "output_type": "execute_result"
    }
   ],
   "source": [
    "random_search_knn.best_params_"
   ]
  },
  {
   "cell_type": "code",
   "execution_count": 39,
   "metadata": {},
   "outputs": [],
   "source": [
    "knn_random = random_search_knn.best_estimator_"
   ]
  },
  {
   "cell_type": "code",
   "execution_count": 42,
   "metadata": {},
   "outputs": [],
   "source": [
    "knn_random_pred = knn_random.predict(X_test)\n",
    "knn_random_proba = knn_random.predict_proba(X_test)"
   ]
  },
  {
   "cell_type": "code",
   "execution_count": 43,
   "metadata": {},
   "outputs": [
    {
     "name": "stdout",
     "output_type": "stream",
     "text": [
      "              precision    recall  f1-score   support\n",
      "\n",
      "           0       0.85      0.73      0.79     19783\n",
      "           1       0.93      0.97      0.95     72077\n",
      "\n",
      "    accuracy                           0.91     91860\n",
      "   macro avg       0.89      0.85      0.87     91860\n",
      "weighted avg       0.91      0.91      0.91     91860\n",
      "\n"
     ]
    }
   ],
   "source": [
    "print(classification_report(y_test, knn_random_pred))"
   ]
  },
  {
   "cell_type": "code",
   "execution_count": 44,
   "metadata": {},
   "outputs": [
    {
     "name": "stdout",
     "output_type": "stream",
     "text": [
      "[[14412  5371]\n",
      " [ 2516 69561]]\n"
     ]
    }
   ],
   "source": [
    "tnknn, fpknn, fnknn, tpknn = confusion_matrix(y_test, knn_random_pred).ravel()\n",
    "print(confusion_matrix(y_test, knn_random_pred))"
   ]
  },
  {
   "cell_type": "markdown",
   "metadata": {},
   "source": [
    "## Evaluation"
   ]
  },
  {
   "cell_type": "markdown",
   "metadata": {},
   "source": [
    "### 1. Logistic Regression Evaluation"
   ]
  },
  {
   "cell_type": "code",
   "execution_count": 45,
   "metadata": {},
   "outputs": [],
   "source": [
    "logreg_prob = logreg_grid.predict_proba(X_test)\n",
    "problogreg = logreg_prob[:,1]\n",
    "fpr_logreg, tpr_logreg, threshold_logreg = roc_curve(y_test, problogreg)\n",
    "roc_auc_logreg = auc(fpr_logreg, tpr_logreg)"
   ]
  },
  {
   "cell_type": "code",
   "execution_count": 46,
   "metadata": {},
   "outputs": [
    {
     "data": {
      "text/plain": [
       "<matplotlib.legend.Legend at 0x285002cd788>"
      ]
     },
     "execution_count": 46,
     "metadata": {},
     "output_type": "execute_result"
    },
    {
     "data": {
      "image/png": "[encoded data removed]",
      "text/plain": [
       "<Figure size 432x288 with 1 Axes>"
      ]
     },
     "metadata": {
      "needs_background": "light"
     },
     "output_type": "display_data"
    }
   ],
   "source": [
    "plt.title('ROC Logistic Regression')\n",
    "plt.plot(fpr_logreg, tpr_logreg, 'blue', label='AUC Logistic Regression = {}'.format(round(roc_auc_logreg,3)))\n",
    "plt.plot([0,1], [0,1], 'r--')\n",
    "plt.xlim([0,1])\n",
    "plt.ylim([0,1])\n",
    "plt.xlabel('False Positive Rate')\n",
    "plt.ylabel('True Positive Rate')\n",
    "plt.fill_between(fpr_logreg, tpr_logreg, 0, facecolor='azure', alpha=1)\n",
    "plt.legend(loc='lower right')"
   ]
  },
  {
   "cell_type": "markdown",
   "metadata": {},
   "source": [
    "### 2. Decision Tree Evaluation"
   ]
  },
  {
   "cell_type": "code",
   "execution_count": 47,
   "metadata": {},
   "outputs": [],
   "source": [
    "dtc_prob = dtc_grid.predict_proba(X_test)\n",
    "probdtc = dtc_prob[:,1]\n",
    "fpr_dtc, tpr_dtc, threshold_dtc = roc_curve(y_test, probdtc)\n",
    "roc_auc_dtc = auc(fpr_dtc, tpr_dtc)"
   ]
  },
  {
   "cell_type": "code",
   "execution_count": 48,
   "metadata": {},
   "outputs": [
    {
     "data": {
      "text/plain": [
       "<matplotlib.legend.Legend at 0x28519eaa188>"
      ]
     },
     "execution_count": 48,
     "metadata": {},
     "output_type": "execute_result"
    },
    {
     "data": {
      "image/png": "[encoded data removed]",
      "text/plain": [
       "<Figure size 432x288 with 1 Axes>"
      ]
     },
     "metadata": {
      "needs_background": "light"
     },
     "output_type": "display_data"
    }
   ],
   "source": [
    "plt.title('ROC Decision Tree')\n",
    "plt.plot(fpr_dtc, tpr_dtc, 'blue', label='AUC Decision Tree = {}'.format(round(roc_auc_dtc,3)))\n",
    "plt.plot([0,1], [0,1], 'r--')\n",
    "plt.xlim([0,1])\n",
    "plt.ylim([0,1])\n",
    "plt.xlabel('False Positive Rate')\n",
    "plt.ylabel('True Positive Rate')\n",
    "plt.fill_between(fpr_dtc, tpr_dtc, 0, facecolor='azure', alpha=1)\n",
    "plt.legend(loc='lower right')"
   ]
  },
  {
   "cell_type": "markdown",
   "metadata": {},
   "source": [
    "### 3. Random Forest Evaluation"
   ]
  },
  {
   "cell_type": "code",
   "execution_count": 49,
   "metadata": {},
   "outputs": [],
   "source": [
    "rfc_prob = rfc_grid.predict_proba(X_test)\n",
    "probrfc = rfc_prob[:,1]\n",
    "fpr_rfc, tpr_rfc, threshold_rfc = roc_curve(y_test, probrfc)\n",
    "roc_auc_rfc = auc(fpr_rfc, tpr_rfc)"
   ]
  },
  {
   "cell_type": "code",
   "execution_count": 50,
   "metadata": {},
   "outputs": [
    {
     "data": {
      "text/plain": [
       "<matplotlib.legend.Legend at 0x2851a1f3c88>"
      ]
     },
     "execution_count": 50,
     "metadata": {},
     "output_type": "execute_result"
    },
    {
     "data": {
      "image/png": "[encoded data removed]",
      "text/plain": [
       "<Figure size 432x288 with 1 Axes>"
      ]
     },
     "metadata": {
      "needs_background": "light"
     },
     "output_type": "display_data"
    }
   ],
   "source": [
    "plt.title('ROC Random Forest')\n",
    "plt.plot(fpr_rfc, tpr_rfc, 'blue', label='AUC Random Forest = {}'.format(round(roc_auc_rfc,3)))\n",
    "plt.plot([0,1], [0,1], 'r--')\n",
    "plt.xlim([0,1])\n",
    "plt.ylim([0,1])\n",
    "plt.xlabel('False Positive Rate')\n",
    "plt.ylabel('True Positive Rate')\n",
    "plt.fill_between(fpr_rfc, tpr_rfc, 0, facecolor='azure', alpha=1)\n",
    "plt.legend(loc='lower right')"
   ]
  },
  {
   "cell_type": "markdown",
   "metadata": {},
   "source": [
    "### 4. Ada Boost Evaluation"
   ]
  },
  {
   "cell_type": "code",
   "execution_count": 51,
   "metadata": {},
   "outputs": [],
   "source": [
    "abc_prob = abc_grid.predict_proba(X_test)\n",
    "probabc = abc_prob[:,1]\n",
    "fpr_abc, tpr_abc, threshold_abc = roc_curve(y_test, probabc)\n",
    "roc_auc_abc = auc(fpr_abc, tpr_abc)"
   ]
  },
  {
   "cell_type": "code",
   "execution_count": 52,
   "metadata": {},
   "outputs": [
    {
     "data": {
      "text/plain": [
       "<matplotlib.legend.Legend at 0x2851a25f6c8>"
      ]
     },
     "execution_count": 52,
     "metadata": {},
     "output_type": "execute_result"
    },
    {
     "data": {
      "image/png": "[encoded data removed]",
      "text/plain": [
       "<Figure size 432x288 with 1 Axes>"
      ]
     },
     "metadata": {
      "needs_background": "light"
     },
     "output_type": "display_data"
    }
   ],
   "source": [
    "plt.title('ROC Ada Boost')\n",
    "plt.plot(fpr_abc, tpr_abc, 'blue', label='AUC Ada Boost = {}'.format(round(roc_auc_abc,3)))\n",
    "plt.plot([0,1], [0,1], 'r--')\n",
    "plt.xlim([0,1])\n",
    "plt.ylim([0,1])\n",
    "plt.xlabel('False Positive Rate')\n",
    "plt.ylabel('True Positive Rate')\n",
    "plt.fill_between(fpr_abc, tpr_abc, 0, facecolor='azure', alpha=1)\n",
    "plt.legend(loc='lower right')"
   ]
  },
  {
   "cell_type": "markdown",
   "metadata": {},
   "source": [
    "### 5. Gradient Boost Evaluation"
   ]
  },
  {
   "cell_type": "code",
   "execution_count": 53,
   "metadata": {},
   "outputs": [],
   "source": [
    "gbc_prob = gbc_random.predict_proba(X_test)\n",
    "probgbc = gbc_prob[:,1]\n",
    "fpr_gbc, tpr_gbc, threshold_gbc = roc_curve(y_test, probgbc)\n",
    "roc_auc_gbc = auc(fpr_gbc, tpr_gbc)"
   ]
  },
  {
   "cell_type": "code",
   "execution_count": 54,
   "metadata": {},
   "outputs": [
    {
     "data": {
      "text/plain": [
       "<matplotlib.legend.Legend at 0x2851a2c9bc8>"
      ]
     },
     "execution_count": 54,
     "metadata": {},
     "output_type": "execute_result"
    },
    {
     "data": {
      "image/png": "[encoded data removed]",
      "text/plain": [
       "<Figure size 432x288 with 1 Axes>"
      ]
     },
     "metadata": {
      "needs_background": "light"
     },
     "output_type": "display_data"
    }
   ],
   "source": [
    "plt.title('ROC Gradient Boost')\n",
    "plt.plot(fpr_gbc, tpr_gbc, 'blue', label='AUC Gradient Boost = {}'.format(round(roc_auc_gbc,3)))\n",
    "plt.plot([0,1], [0,1], 'r--')\n",
    "plt.xlim([0,1])\n",
    "plt.ylim([0,1])\n",
    "plt.xlabel('False Positive Rate')\n",
    "plt.ylabel('True Positive Rate')\n",
    "plt.fill_between(fpr_gbc, tpr_gbc, 0, facecolor='azure', alpha=1)\n",
    "plt.legend(loc='lower right')"
   ]
  },
  {
   "cell_type": "markdown",
   "metadata": {},
   "source": [
    "### 6. K-Nearest Neighbor Evaluation"
   ]
  },
  {
   "cell_type": "code",
   "execution_count": 55,
   "metadata": {},
   "outputs": [],
   "source": [
    "knn_prob = knn_random.predict_proba(X_test)\n",
    "probknn = knn_prob[:,1]\n",
    "fpr_knn, tpr_knn, threshold_knn = roc_curve(y_test, probknn)\n",
    "roc_auc_knn = auc(fpr_knn, tpr_knn)"
   ]
  },
  {
   "cell_type": "code",
   "execution_count": 56,
   "metadata": {},
   "outputs": [
    {
     "data": {
      "text/plain": [
       "<matplotlib.legend.Legend at 0x2851a707448>"
      ]
     },
     "execution_count": 56,
     "metadata": {},
     "output_type": "execute_result"
    },
    {
     "data": {
      "image/png": "[encoded data removed]",
      "text/plain": [
       "<Figure size 432x288 with 1 Axes>"
      ]
     },
     "metadata": {
      "needs_background": "light"
     },
     "output_type": "display_data"
    }
   ],
   "source": [
    "plt.title('ROC K-Nearest Neighbor')\n",
    "plt.plot(fpr_knn, tpr_knn, 'blue', label='AUC K-Nearest Neighbor = {}'.format(round(roc_auc_knn,3)))\n",
    "plt.plot([0,1], [0,1], 'r--')\n",
    "plt.xlim([0,1])\n",
    "plt.ylim([0,1])\n",
    "plt.xlabel('False Positive Rate')\n",
    "plt.ylabel('True Positive Rate')\n",
    "plt.fill_between(fpr_knn, tpr_knn, 0, facecolor='azure', alpha=1)\n",
    "plt.legend(loc='lower right')"
   ]
  },
  {
   "cell_type": "markdown",
   "metadata": {},
   "source": [
    "## Model Comparation"
   ]
  },
  {
   "cell_type": "markdown",
   "metadata": {},
   "source": [
    "##### By accuracy_score, precision_score, recall_score, f1_score"
   ]
  },
  {
   "cell_type": "code",
   "execution_count": 57,
   "metadata": {},
   "outputs": [
    {
     "data": {
      "text/html": [
       "<div>\n",
       "<style scoped>\n",
       "    .dataframe tbody tr th:only-of-type {\n",
       "        vertical-align: middle;\n",
       "    }\n",
       "\n",
       "    .dataframe tbody tr th {\n",
       "        vertical-align: top;\n",
       "    }\n",
       "\n",
       "    .dataframe thead th {\n",
       "        text-align: right;\n",
       "    }\n",
       "</style>\n",
       "<table border=\"1\" class=\"dataframe\">\n",
       "  <thead>\n",
       "    <tr style=\"text-align: right;\">\n",
       "      <th></th>\n",
       "      <th>Logistic Regression</th>\n",
       "      <th>Decision Tree</th>\n",
       "      <th>Random Forest</th>\n",
       "      <th>Ada Boost</th>\n",
       "      <th>Gradient Boost</th>\n",
       "      <th>K-Nearest Neighbor</th>\n",
       "    </tr>\n",
       "  </thead>\n",
       "  <tbody>\n",
       "    <tr>\n",
       "      <td>Accuracy Score</td>\n",
       "      <td>0.786305</td>\n",
       "      <td>0.931113</td>\n",
       "      <td>0.924581</td>\n",
       "      <td>0.920466</td>\n",
       "      <td>0.936523</td>\n",
       "      <td>0.914141</td>\n",
       "    </tr>\n",
       "    <tr>\n",
       "      <td>Precision Score</td>\n",
       "      <td>0.786875</td>\n",
       "      <td>0.955887</td>\n",
       "      <td>0.950789</td>\n",
       "      <td>0.946752</td>\n",
       "      <td>0.958183</td>\n",
       "      <td>0.928322</td>\n",
       "    </tr>\n",
       "    <tr>\n",
       "      <td>Recall Score</td>\n",
       "      <td>0.997947</td>\n",
       "      <td>0.956338</td>\n",
       "      <td>0.953217</td>\n",
       "      <td>0.952190</td>\n",
       "      <td>0.961042</td>\n",
       "      <td>0.965093</td>\n",
       "    </tr>\n",
       "    <tr>\n",
       "      <td>F1 Score</td>\n",
       "      <td>0.879930</td>\n",
       "      <td>0.956113</td>\n",
       "      <td>0.952002</td>\n",
       "      <td>0.949463</td>\n",
       "      <td>0.959610</td>\n",
       "      <td>0.946350</td>\n",
       "    </tr>\n",
       "    <tr>\n",
       "      <td>True Positive</td>\n",
       "      <td>71929.000000</td>\n",
       "      <td>68930.000000</td>\n",
       "      <td>68705.000000</td>\n",
       "      <td>68631.000000</td>\n",
       "      <td>69269.000000</td>\n",
       "      <td>69561.000000</td>\n",
       "    </tr>\n",
       "    <tr>\n",
       "      <td>True Negative</td>\n",
       "      <td>301.000000</td>\n",
       "      <td>16602.000000</td>\n",
       "      <td>16227.000000</td>\n",
       "      <td>15923.000000</td>\n",
       "      <td>16760.000000</td>\n",
       "      <td>14412.000000</td>\n",
       "    </tr>\n",
       "    <tr>\n",
       "      <td>False Positive</td>\n",
       "      <td>19482.000000</td>\n",
       "      <td>3181.000000</td>\n",
       "      <td>3556.000000</td>\n",
       "      <td>3860.000000</td>\n",
       "      <td>3023.000000</td>\n",
       "      <td>5371.000000</td>\n",
       "    </tr>\n",
       "    <tr>\n",
       "      <td>False Negative</td>\n",
       "      <td>148.000000</td>\n",
       "      <td>3147.000000</td>\n",
       "      <td>3372.000000</td>\n",
       "      <td>3446.000000</td>\n",
       "      <td>2808.000000</td>\n",
       "      <td>2516.000000</td>\n",
       "    </tr>\n",
       "  </tbody>\n",
       "</table>\n",
       "</div>"
      ],
      "text/plain": [
       "                 Logistic Regression  Decision Tree  Random Forest  \\\n",
       "Accuracy Score              0.786305       0.931113       0.924581   \n",
       "Precision Score             0.786875       0.955887       0.950789   \n",
       "Recall Score                0.997947       0.956338       0.953217   \n",
       "F1 Score                    0.879930       0.956113       0.952002   \n",
       "True Positive           71929.000000   68930.000000   68705.000000   \n",
       "True Negative             301.000000   16602.000000   16227.000000   \n",
       "False Positive          19482.000000    3181.000000    3556.000000   \n",
       "False Negative            148.000000    3147.000000    3372.000000   \n",
       "\n",
       "                    Ada Boost  Gradient Boost  K-Nearest Neighbor  \n",
       "Accuracy Score       0.920466        0.936523            0.914141  \n",
       "Precision Score      0.946752        0.958183            0.928322  \n",
       "Recall Score         0.952190        0.961042            0.965093  \n",
       "F1 Score             0.949463        0.959610            0.946350  \n",
       "True Positive    68631.000000    69269.000000        69561.000000  \n",
       "True Negative    15923.000000    16760.000000        14412.000000  \n",
       "False Positive    3860.000000     3023.000000         5371.000000  \n",
       "False Negative    3446.000000     2808.000000         2516.000000  "
      ]
     },
     "execution_count": 57,
     "metadata": {},
     "output_type": "execute_result"
    }
   ],
   "source": [
    "modelComparation = pd.DataFrame({\n",
    "    \"Logistic Regression\": [accuracy_score(y_test, logreg_grid_pred),precision_score(y_test, logreg_grid_pred),recall_score(y_test, logreg_grid_pred),f1_score(y_test, logreg_grid_pred), tplogreg, tnlogreg, fplogreg, fnlogreg],\n",
    "    \"Decision Tree\": [accuracy_score(y_test, dtc_grid_pred),precision_score(y_test, dtc_grid_pred),recall_score(y_test, dtc_grid_pred),f1_score(y_test, dtc_grid_pred), tpdtc, tndtc, fpdtc, fndtc],\n",
    "    \"Random Forest\": [accuracy_score(y_test, rfc_grid_pred),precision_score(y_test, rfc_grid_pred),recall_score(y_test, rfc_grid_pred),f1_score(y_test, rfc_grid_pred), tprfc, tnrfc, fprfc, fnrfc],\n",
    "    \"Ada Boost\": [accuracy_score(y_test, abc_grid_pred),precision_score(y_test, abc_grid_pred),recall_score(y_test, abc_grid_pred),f1_score(y_test, abc_grid_pred), tpabc, tnabc, fpabc, fnabc],\n",
    "    \"Gradient Boost\": [accuracy_score(y_test, gbc_random_pred),precision_score(y_test, gbc_random_pred),recall_score(y_test, gbc_random_pred),f1_score(y_test, gbc_random_pred), tpgbc, tngbc, fpgbc, fngbc],\n",
    "    \"K-Nearest Neighbor\": [accuracy_score(y_test, knn_random_pred),precision_score(y_test, knn_random_pred),recall_score(y_test, knn_random_pred),f1_score(y_test, knn_random_pred), tpknn, tnknn, fpknn, fnknn],\n",
    "}, index=['Accuracy Score', 'Precision Score', 'Recall Score', 'F1 Score', 'True Positive', 'True Negative', 'False Positive', 'False Negative'])\n",
    "modelComparation"
   ]
  },
  {
   "cell_type": "markdown",
   "metadata": {},
   "source": [
    "From this table, it can be concluded that the Gradient Boosting Classifier can provide the best results because it has the highest accuracy, precision, and F1 score. Also, this model has a low False Positive. This is important because the more False Positive the model has, the greater the loss for the institution. To validate the model, we'll be using the ROC and AUC scores to determine the sensitivity of the three models to the threshold."
   ]
  },
  {
   "cell_type": "markdown",
   "metadata": {},
   "source": [
    "##### By ROC_AUC_Score"
   ]
  },
  {
   "cell_type": "code",
   "execution_count": 58,
   "metadata": {},
   "outputs": [
    {
     "data": {
      "text/plain": [
       "<matplotlib.legend.Legend at 0x28520178a08>"
      ]
     },
     "execution_count": 58,
     "metadata": {},
     "output_type": "execute_result"
    },
    {
     "data": {
      "image/png": "[encoded data removed]",
      "text/plain": [
       "<Figure size 1152x720 with 4 Axes>"
      ]
     },
     "metadata": {
      "needs_background": "light"
     },
     "output_type": "display_data"
    },
    {
     "data": {
      "image/png": "[encoded data removed]",
      "text/plain": [
       "<Figure size 1152x720 with 2 Axes>"
      ]
     },
     "metadata": {
      "needs_background": "light"
     },
     "output_type": "display_data"
    }
   ],
   "source": [
    "plt.figure(figsize=(16,10))\n",
    "plt.subplot(221)\n",
    "plt.title('ROC Logistic Regression')\n",
    "plt.plot(fpr_logreg, tpr_logreg, 'red', label='AUC Logistic Regression = {}'.format(round(roc_auc_logreg,3)))\n",
    "plt.plot([0,1], [0,1], 'r--')\n",
    "plt.xlim([0,1])\n",
    "plt.ylim([0,1])\n",
    "plt.xlabel('False Positive Rate')\n",
    "plt.ylabel('True Positive Rate')\n",
    "plt.fill_between(fpr_logreg, tpr_logreg, 0, facecolor='pink', alpha=1)\n",
    "plt.legend(loc='lower right')\n",
    "\n",
    "plt.subplot(222)\n",
    "plt.title('ROC Decision Tree')\n",
    "plt.plot(fpr_dtc, tpr_dtc, 'blue', label='AUC Decision Tree = {}'.format(round(roc_auc_dtc,4)))\n",
    "plt.plot([0,1], [0,1], 'r--')\n",
    "plt.xlim([0,1])\n",
    "plt.ylim([0,1])\n",
    "plt.xlabel('False Positive Rate')\n",
    "plt.ylabel('True Positive Rate')\n",
    "plt.fill_between(fpr_dtc, tpr_dtc, 0, facecolor='azure', alpha=1)\n",
    "plt.legend(loc='lower right')\n",
    "\n",
    "plt.subplot(223)\n",
    "plt.title('ROC Random Forest')\n",
    "plt.plot(fpr_rfc, tpr_rfc, 'red', label='AUC Random Forest = {}'.format(round(roc_auc_rfc,4)))\n",
    "plt.plot([0,1], [0,1], 'r--')\n",
    "plt.xlim([0,1])\n",
    "plt.ylim([0,1])\n",
    "plt.xlabel('False Positive Rate')\n",
    "plt.ylabel('True Positive Rate')\n",
    "plt.fill_between(fpr_rfc, tpr_rfc, 0, facecolor='pink', alpha=1)\n",
    "plt.legend(loc='lower right')\n",
    "\n",
    "plt.subplot(224)\n",
    "plt.title('ROC Ada Boost')\n",
    "plt.plot(fpr_abc, tpr_abc, 'blue', label='AUC Ada Boost = {}'.format(round(roc_auc_abc,3)))\n",
    "plt.plot([0,1], [0,1], 'r--')\n",
    "plt.xlim([0,1])\n",
    "plt.ylim([0,1])\n",
    "plt.xlabel('False Positive Rate')\n",
    "plt.ylabel('True Positive Rate')\n",
    "plt.fill_between(fpr_abc, tpr_abc, 0, facecolor='azure', alpha=1)\n",
    "plt.legend(loc='lower right')\n",
    "\n",
    "plt.figure(figsize=(16,10))\n",
    "plt.subplot(221)\n",
    "plt.title('ROC Gradient Boost')\n",
    "plt.plot(fpr_gbc, tpr_gbc, 'red', label='AUC Gradient Boost = {}'.format(round(roc_auc_gbc,4)))\n",
    "plt.plot([0,1], [0,1], 'r--')\n",
    "plt.xlim([0,1])\n",
    "plt.ylim([0,1])\n",
    "plt.xlabel('False Positive Rate')\n",
    "plt.ylabel('True Positive Rate')\n",
    "plt.fill_between(fpr_gbc, tpr_gbc, 0, facecolor='pink', alpha=1)\n",
    "plt.legend(loc='lower right')\n",
    "\n",
    "plt.subplot(222)\n",
    "plt.title('ROC K-Nearest Neighbor')\n",
    "plt.plot(fpr_knn, tpr_knn, 'blue', label='AUC K-Nearest Neighbor = {}'.format(round(roc_auc_knn,3)))\n",
    "plt.plot([0,1], [0,1], 'r--')\n",
    "plt.xlim([0,1])\n",
    "plt.ylim([0,1])\n",
    "plt.xlabel('False Positive Rate')\n",
    "plt.ylabel('True Positive Rate')\n",
    "plt.fill_between(fpr_knn, tpr_knn, 0, facecolor='azure', alpha=1)\n",
    "plt.legend(loc='lower right')"
   ]
  },
  {
   "cell_type": "markdown",
   "metadata": {},
   "source": [
    "From all AUC graphs, it can be seen that the best model to use is the **Gradient Boos Classifier** model because it has the highest score with **0,971** points.\n",
    "\n",
    "Because all the verification results show the **Gradient boost Clasifier** as the best model for our case. We will use this model for our Loan Approval Prediction Application."
   ]
  },
  {
   "cell_type": "code",
   "execution_count": null,
   "metadata": {},
   "outputs": [],
   "source": [
    "for the sake of safety"
   ]
  },
  {
   "cell_type": "markdown",
   "metadata": {},
   "source": [
    "## Random Oversampling SMOTE"
   ]
  },
  {
   "cell_type": "code",
   "execution_count": 58,
   "metadata": {},
   "outputs": [],
   "source": [
    "from imblearn.over_sampling import SMOTE\n",
    "\n",
    "sm = SMOTE(random_state=42, sampling_strategy=1.0, k_neighbors=5)\n",
    "Xsmot_train, ysmot_train = sm.fit_sample(X_train, y_train)"
   ]
  },
  {
   "cell_type": "code",
   "execution_count": 60,
   "metadata": {},
   "outputs": [
    {
     "data": {
      "text/plain": [
       "GradientBoostingClassifier(criterion='friedman_mse', init=None,\n",
       "                           learning_rate=0.1, loss='deviance', max_depth=10,\n",
       "                           max_features=None, max_leaf_nodes=None,\n",
       "                           min_impurity_decrease=0.0, min_impurity_split=None,\n",
       "                           min_samples_leaf=1, min_samples_split=5,\n",
       "                           min_weight_fraction_leaf=0.0, n_estimators=100,\n",
       "                           n_iter_no_change=None, presort='auto',\n",
       "                           random_state=None, subsample=1.0, tol=0.0001,\n",
       "                           validation_fraction=0.1, verbose=0,\n",
       "                           warm_start=False)"
      ]
     },
     "execution_count": 60,
     "metadata": {},
     "output_type": "execute_result"
    }
   ],
   "source": [
    "# Best Gradient Boost Hyperparameter Tuning\n",
    "gbc_smot = GradientBoostingClassifier(learning_rate=0.1,max_depth=10, min_samples_split=5 ,n_estimators=100)\n",
    "gbc_smot.fit(Xsmot_train, ysmot_train)"
   ]
  },
  {
   "cell_type": "code",
   "execution_count": 28,
   "metadata": {},
   "outputs": [
    {
     "name": "stderr",
     "output_type": "stream",
     "text": [
      "C:\\ProgramData\\Anaconda3\\lib\\site-packages\\sklearn\\model_selection\\_split.py:1978: FutureWarning: The default value of cv will change from 3 to 5 in version 0.22. Specify it explicitly to silence this warning.\n",
      "  warnings.warn(CV_WARNING, FutureWarning)\n"
     ]
    },
    {
     "data": {
      "text/plain": [
       "RandomizedSearchCV(cv='warn', error_score='raise-deprecating',\n",
       "                   estimator=GradientBoostingClassifier(criterion='friedman_mse',\n",
       "                                                        init=None,\n",
       "                                                        learning_rate=0.1,\n",
       "                                                        loss='deviance',\n",
       "                                                        max_depth=3,\n",
       "                                                        max_features=None,\n",
       "                                                        max_leaf_nodes=None,\n",
       "                                                        min_impurity_decrease=0.0,\n",
       "                                                        min_impurity_split=None,\n",
       "                                                        min_samples_leaf=1,\n",
       "                                                        min_samples_split=2,\n",
       "                                                        min_weight_fraction_leaf=0.0,\n",
       "                                                        n_estimators=10...\n",
       "                                                        random_state=None,\n",
       "                                                        subsample=1.0,\n",
       "                                                        tol=0.0001,\n",
       "                                                        validation_fraction=0.1,\n",
       "                                                        verbose=0,\n",
       "                                                        warm_start=False),\n",
       "                   iid='warn', n_iter=10, n_jobs=-1,\n",
       "                   param_distributions={'learning_rate': [0.1, 0.5],\n",
       "                                        'max_depth': [3, 10],\n",
       "                                        'min_samples_split': [2, 5],\n",
       "                                        'n_estimators': [100, 200]},\n",
       "                   pre_dispatch='2*n_jobs', random_state=None, refit=True,\n",
       "                   return_train_score=False, scoring='roc_auc', verbose=0)"
      ]
     },
     "execution_count": 28,
     "metadata": {},
     "output_type": "execute_result"
    }
   ],
   "source": [
    "param_random_gbc = {\n",
    "    'learning_rate': [0.1,0.5],\n",
    "    'max_depth' : [3, 10],\n",
    "    'min_samples_split' : [2,5],\n",
    "    'n_estimators' : [100,200]\n",
    "}\n",
    "random_gbc_smot = RandomizedSearchCV(estimator=gbc, param_distributions=param_random_gbc, scoring='roc_auc', n_jobs=-1)\n",
    "random_gbc_smot.fit(X_train, y_train)"
   ]
  },
  {
   "cell_type": "code",
   "execution_count": 29,
   "metadata": {},
   "outputs": [
    {
     "data": {
      "text/plain": [
       "{'n_estimators': 100,\n",
       " 'min_samples_split': 5,\n",
       " 'max_depth': 10,\n",
       " 'learning_rate': 0.1}"
      ]
     },
     "execution_count": 29,
     "metadata": {},
     "output_type": "execute_result"
    }
   ],
   "source": [
    "random_gbc_smot.best_params_"
   ]
  },
  {
   "cell_type": "code",
   "execution_count": 30,
   "metadata": {},
   "outputs": [],
   "source": [
    "gbc_smot = random_gbc_smot.best_estimator_"
   ]
  },
  {
   "cell_type": "code",
   "execution_count": 61,
   "metadata": {},
   "outputs": [],
   "source": [
    "gbc_smot_pred = gbc_smot.predict(X_test)\n",
    "gbc_smot_proba = gbc_smot.predict_proba(X_test)"
   ]
  },
  {
   "cell_type": "code",
   "execution_count": 62,
   "metadata": {},
   "outputs": [
    {
     "name": "stdout",
     "output_type": "stream",
     "text": [
      "              precision    recall  f1-score   support\n",
      "\n",
      "           0       0.84      0.86      0.85     19783\n",
      "           1       0.96      0.95      0.96     72077\n",
      "\n",
      "    accuracy                           0.93     91860\n",
      "   macro avg       0.90      0.91      0.90     91860\n",
      "weighted avg       0.94      0.93      0.94     91860\n",
      "\n"
     ]
    }
   ],
   "source": [
    "print(classification_report(y_test, gbc_smot_pred))"
   ]
  },
  {
   "cell_type": "code",
   "execution_count": 70,
   "metadata": {},
   "outputs": [
    {
     "name": "stdout",
     "output_type": "stream",
     "text": [
      "[[17075  2708]\n",
      " [ 3278 68799]]\n"
     ]
    }
   ],
   "source": [
    "tngbcs, fpgbcs, fngbcs, tpgbcs = confusion_matrix(y_test, gbc_smot_pred).ravel()\n",
    "print(confusion_matrix(y_test, gbc_smot_pred))"
   ]
  },
  {
   "cell_type": "markdown",
   "metadata": {},
   "source": [
    "##### By accuracy_score, precision_score, recall_score, f1_score"
   ]
  },
  {
   "cell_type": "code",
   "execution_count": 72,
   "metadata": {},
   "outputs": [
    {
     "data": {
      "text/html": [
       "<div>\n",
       "<style scoped>\n",
       "    .dataframe tbody tr th:only-of-type {\n",
       "        vertical-align: middle;\n",
       "    }\n",
       "\n",
       "    .dataframe tbody tr th {\n",
       "        vertical-align: top;\n",
       "    }\n",
       "\n",
       "    .dataframe thead th {\n",
       "        text-align: right;\n",
       "    }\n",
       "</style>\n",
       "<table border=\"1\" class=\"dataframe\">\n",
       "  <thead>\n",
       "    <tr style=\"text-align: right;\">\n",
       "      <th></th>\n",
       "      <th>Gradient Boost</th>\n",
       "      <th>Gradient Boost with Smote</th>\n",
       "    </tr>\n",
       "  </thead>\n",
       "  <tbody>\n",
       "    <tr>\n",
       "      <td>Accuracy Score</td>\n",
       "      <td>0.936806</td>\n",
       "      <td>0.934836</td>\n",
       "    </tr>\n",
       "    <tr>\n",
       "      <td>Precision Score</td>\n",
       "      <td>0.958287</td>\n",
       "      <td>0.962130</td>\n",
       "    </tr>\n",
       "    <tr>\n",
       "      <td>Recall Score</td>\n",
       "      <td>0.961305</td>\n",
       "      <td>0.954521</td>\n",
       "    </tr>\n",
       "    <tr>\n",
       "      <td>F1 Score</td>\n",
       "      <td>0.959794</td>\n",
       "      <td>0.958310</td>\n",
       "    </tr>\n",
       "    <tr>\n",
       "      <td>True Positive</td>\n",
       "      <td>69288.000000</td>\n",
       "      <td>68799.000000</td>\n",
       "    </tr>\n",
       "    <tr>\n",
       "      <td>True Negative</td>\n",
       "      <td>16767.000000</td>\n",
       "      <td>17075.000000</td>\n",
       "    </tr>\n",
       "    <tr>\n",
       "      <td>False Positive</td>\n",
       "      <td>3016.000000</td>\n",
       "      <td>2708.000000</td>\n",
       "    </tr>\n",
       "    <tr>\n",
       "      <td>False Negative</td>\n",
       "      <td>2789.000000</td>\n",
       "      <td>3278.000000</td>\n",
       "    </tr>\n",
       "  </tbody>\n",
       "</table>\n",
       "</div>"
      ],
      "text/plain": [
       "                 Gradient Boost  Gradient Boost with Smote\n",
       "Accuracy Score         0.936806                   0.934836\n",
       "Precision Score        0.958287                   0.962130\n",
       "Recall Score           0.961305                   0.954521\n",
       "F1 Score               0.959794                   0.958310\n",
       "True Positive      69288.000000               68799.000000\n",
       "True Negative      16767.000000               17075.000000\n",
       "False Positive      3016.000000                2708.000000\n",
       "False Negative      2789.000000                3278.000000"
      ]
     },
     "execution_count": 72,
     "metadata": {},
     "output_type": "execute_result"
    }
   ],
   "source": [
    "modelComparation = pd.DataFrame({\n",
    "    \"Gradient Boost\": [accuracy_score(y_test, gbc_random_pred),precision_score(y_test, gbc_random_pred),recall_score(y_test, gbc_random_pred),f1_score(y_test, gbc_random_pred), tpgbc, tngbc, fpgbc, fngbc],\n",
    "    \"Gradient Boost with Smote\": [accuracy_score(y_test, gbc_smot_pred),precision_score(y_test, gbc_smot_pred),recall_score(y_test, gbc_smot_pred),f1_score(y_test, gbc_smot_pred), tpgbcs, tngbcs, fpgbcs, fngbcs]\n",
    "}, index=['Accuracy Score', 'Precision Score', 'Recall Score', 'F1 Score', 'True Positive', 'True Negative', 'False Positive', 'False Negative'])\n",
    "modelComparation"
   ]
  },
  {
   "cell_type": "markdown",
   "metadata": {},
   "source": [
    "After we conduct oversampling smote for our model, we can see the result from the tables that the model without using the oversampling method still have the better result."
   ]
  },
  {
   "cell_type": "code",
   "execution_count": 66,
   "metadata": {},
   "outputs": [],
   "source": [
    "gbc_smot_prob = gbc_smot.predict_proba(X_test)\n",
    "prob_gbc_smot = gbc_smot_prob[:,1]\n",
    "fpr_gbcsmot, tpr_gbcsmot, threshold_gbcsmot = roc_curve(y_test, prob_gbc_smot)\n",
    "roc_auc_gbcsmot = auc(fpr_gbcsmot, tpr_gbcsmot)"
   ]
  },
  {
   "cell_type": "code",
   "execution_count": 67,
   "metadata": {},
   "outputs": [
    {
     "data": {
      "text/plain": [
       "<matplotlib.legend.Legend at 0x1e0a1f21808>"
      ]
     },
     "execution_count": 67,
     "metadata": {},
     "output_type": "execute_result"
    },
    {
     "data": {
      "image/png": "[encoded data removed]",
      "text/plain": [
       "<Figure size 432x288 with 1 Axes>"
      ]
     },
     "metadata": {
      "needs_background": "light"
     },
     "output_type": "display_data"
    }
   ],
   "source": [
    "plt.title('ROC Gradient Boost SMOTE')\n",
    "plt.plot(fpr_gbcsmot, tpr_gbcsmot, 'blue', label='AUC Gradient Boost SMOTE = {}'.format(round(roc_auc_gbcsmot,2)))\n",
    "plt.plot([0,1], [0,1], 'r--')\n",
    "plt.xlim([0,1])\n",
    "plt.ylim([0,1])\n",
    "plt.xlabel('False Positive Rate')\n",
    "plt.ylabel('True Positive Rate')\n",
    "plt.fill_between(fpr_gbcsmot, tpr_gbcsmot, 0, facecolor='azure', alpha=1)\n",
    "plt.legend(loc='lower right')"
   ]
  },
  {
   "cell_type": "markdown",
   "metadata": {},
   "source": [
    "#### Model Comparation"
   ]
  },
  {
   "cell_type": "code",
   "execution_count": 69,
   "metadata": {},
   "outputs": [
    {
     "data": {
      "text/plain": [
       "<matplotlib.legend.Legend at 0x1e0a3495b08>"
      ]
     },
     "execution_count": 69,
     "metadata": {},
     "output_type": "execute_result"
    },
    {
     "data": {
      "image/png": "[encoded data removed]",
      "text/plain": [
       "<Figure size 1152x720 with 2 Axes>"
      ]
     },
     "metadata": {
      "needs_background": "light"
     },
     "output_type": "display_data"
    }
   ],
   "source": [
    "plt.figure(figsize=(16,10))\n",
    "plt.subplot(221)\n",
    "plt.title('ROC Gradient Boost')\n",
    "plt.plot(fpr_gbc, tpr_gbc, 'red', label='AUC Gradient Boost = {}'.format(round(roc_auc_gbc,4)))\n",
    "plt.plot([0,1], [0,1], 'r--')\n",
    "plt.xlim([0,1])\n",
    "plt.ylim([0,1])\n",
    "plt.xlabel('False Positive Rate')\n",
    "plt.ylabel('True Positive Rate')\n",
    "plt.fill_between(fpr_gbc, tpr_gbc, 0, facecolor='pink', alpha=1)\n",
    "plt.legend(loc='lower right')\n",
    "\n",
    "plt.subplot(222)\n",
    "plt.title('ROC Gradient Boost SMOTE')\n",
    "plt.plot(fpr_gbcsmot, tpr_gbcsmot, 'blue', label='AUC Gradient Boost SMOTE = {}'.format(round(roc_auc_gbcsmot,4)))\n",
    "plt.plot([0,1], [0,1], 'r--')\n",
    "plt.xlim([0,1])\n",
    "plt.ylim([0,1])\n",
    "plt.xlabel('False Positive Rate')\n",
    "plt.ylabel('True Positive Rate')\n",
    "plt.fill_between(fpr_gbcsmot, tpr_gbcsmot, 0, facecolor='azure', alpha=1)\n",
    "plt.legend(loc='lower right')"
   ]
  },
  {
   "cell_type": "markdown",
   "metadata": {},
   "source": [
    "From AUC graphs above, it can be seen that the best model to use is the **Gradient Boos Classifier model without oversampling** method because it has the highest score with **0,971** points. We will use this model for our Loan Approval Prediction Application."
   ]
  },
  {
   "cell_type": "markdown",
   "metadata": {},
   "source": [
    "## Joblib\n",
    "\n",
    "After we done with machine learning modeling. The last step of this stage is to save the model using Joblib. So it can be used for a later stage."
   ]
  },
  {
   "cell_type": "code",
   "execution_count": 1,
   "metadata": {},
   "outputs": [],
   "source": [
    "import joblib"
   ]
  },
  {
   "cell_type": "code",
   "execution_count": 71,
   "metadata": {},
   "outputs": [
    {
     "data": {
      "text/plain": [
       "['gbc_SBA_Loan']"
      ]
     },
     "execution_count": 71,
     "metadata": {},
     "output_type": "execute_result"
    }
   ],
   "source": [
    "joblib.dump(gbc_random, 'gbc_SBA_Loan')"
   ]
  }
 ],
 "metadata": {
  "kernelspec": {
   "display_name": "Python 3",
   "language": "python",
   "name": "python3"
  },
  "language_info": {
   "codemirror_mode": {
    "name": "ipython",
    "version": 3
   },
   "file_extension": ".py",
   "mimetype": "text/x-python",
   "name": "python",
   "nbconvert_exporter": "python",
   "pygments_lexer": "ipython3",
   "version": "3.7.4"
  }
 },
 "nbformat": 4,
 "nbformat_minor": 2
}
